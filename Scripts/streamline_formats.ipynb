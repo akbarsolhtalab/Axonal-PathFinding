{
 "cells": [
  {
   "cell_type": "markdown",
   "metadata": {},
   "source": [
    "\n",
    "# Read/Write streamline files\n",
    "\n",
    "## Overview\n",
    "\n",
    "DIPY_ can read and write many different file formats. In this example\n",
    "we give a short introduction on how to use it for loading or saving\n",
    "streamlines. The new stateful tractogram class was made to reduce errors\n",
    "caused by spatial transformation and complex file format convention.\n",
    "\n",
    "Read `faq`\n"
   ]
  },
  {
   "cell_type": "code",
   "execution_count": 15,
   "metadata": {
    "collapsed": false,
    "jupyter": {
     "outputs_hidden": false
    }
   },
   "outputs": [],
   "source": [
    "import os\n",
    "\n",
    "import nibabel as nib\n",
    "import numpy as np\n",
    "from dipy.io.stateful_tractogram import Space, StatefulTractogram\n",
    "from dipy.io.streamline import load_tractogram, save_tractogram\n",
    "from dipy.io.utils import (create_nifti_header, get_reference_info,\n",
    "                           is_header_compatible)\n",
    "from dipy.tracking.streamline import select_random_set_of_streamlines\n",
    "from dipy.tracking.utils import density_map\n",
    "\n",
    "from dipy.data.fetcher import (fetch_file_formats,\n",
    "                               get_file_formats)\n",
    "from dipy.io.image import load_nifti_data, load_nifti, save_nifti\n",
    "from dipy.io.streamline import save_trk, save_vtk, load_vtk\n"
   ]
  },
  {
   "cell_type": "markdown",
   "metadata": {},
   "source": [
    "First fetch the dataset that contains 5 tractography file of 5 file formats:\n",
    "\n",
    "- cc_m_sub.trk\n",
    "- laf_m_sub.tck\n",
    "- lpt_m_sub.fib\n",
    "- raf_m_sub.vtk\n",
    "- rpt_m_sub.dpy\n",
    "\n",
    "And their reference anatomy, common to all 5 files:\n",
    "\n",
    "- template0.nii.gz\n",
    "\n"
   ]
  },
  {
   "cell_type": "code",
   "execution_count": 16,
   "metadata": {
    "collapsed": false,
    "jupyter": {
     "outputs_hidden": false
    }
   },
   "outputs": [],
   "source": [
    "# Enables/disables interactive visualization\n",
    "cwd = os.getcwd()\n",
    "bundles_filename = cwd + '\\\\whole_brain.trk'\n",
    "ref_anat_filename = cwd + '\\\\white.nii.gz'\n",
    "\n",
    "reference_anatomy = nib.load(ref_anat_filename)"
   ]
  },
  {
   "cell_type": "code",
   "execution_count": 17,
   "metadata": {},
   "outputs": [
    {
     "name": "stdout",
     "output_type": "stream",
     "text": [
      "[[  -0.7    0.     0.    90. ]\n",
      " [   0.     0.7    0.  -126. ]\n",
      " [   0.     0.     0.7  -72. ]\n",
      " [   0.     0.     0.     1. ]]\n",
      "[260 311 260]\n",
      "[0.7 0.7 0.7]\n",
      "LAS\n"
     ]
    }
   ],
   "source": [
    "affine, dimensions, voxel_sizes, voxel_order = get_reference_info(\n",
    "    ref_anat_filename)\n",
    "print(affine)\n",
    "print(dimensions)\n",
    "print(voxel_sizes)\n",
    "print(voxel_order)"
   ]
  },
  {
   "cell_type": "markdown",
   "metadata": {},
   "source": [
    "Load tractogram will support 5 file formats, functions like load_trk or\n",
    "load_tck will simply be restricted to one file format\n",
    "\n",
    "TRK files contain their own header (when written properly), so they\n",
    "technically do not need a reference. (See how below)\n",
    "\n",
    "``cc_trk = load_tractogram(bundles_filename[0], 'same')``\n",
    "\n"
   ]
  },
  {
   "cell_type": "code",
   "execution_count": 22,
   "metadata": {
    "collapsed": false,
    "jupyter": {
     "outputs_hidden": false
    }
   },
   "outputs": [
    {
     "ename": "TypeError",
     "evalue": "Input reference is not one of the supported format",
     "output_type": "error",
     "traceback": [
      "\u001b[1;31m---------------------------------------------------------------------------\u001b[0m",
      "\u001b[1;31mTypeError\u001b[0m                                 Traceback (most recent call last)",
      "Cell \u001b[1;32mIn[22], line 1\u001b[0m\n\u001b[1;32m----> 1\u001b[0m cc_trk \u001b[38;5;241m=\u001b[39m \u001b[43mload_tractogram\u001b[49m\u001b[43m(\u001b[49m\u001b[43mbundles_filename\u001b[49m\u001b[43m,\u001b[49m\u001b[38;5;124;43m'\u001b[39;49m\u001b[38;5;124;43mLAS\u001b[39;49m\u001b[38;5;124;43m'\u001b[39;49m\u001b[43m)\u001b[49m\n\u001b[0;32m      2\u001b[0m \u001b[38;5;66;03m#lpt_sft = load_tractogram(bundles_filename, reference_anatomy,\u001b[39;00m\n\u001b[0;32m      3\u001b[0m \u001b[38;5;66;03m#                          bbox_valid_check=False)\u001b[39;00m\n",
      "File \u001b[1;32m~\\AppData\\Local\\Programs\\Python\\Python311\\Lib\\site-packages\\dipy\\io\\streamline.py:141\u001b[0m, in \u001b[0;36mload_tractogram\u001b[1;34m(filename, reference, to_space, to_origin, bbox_valid_check, trk_header_check)\u001b[0m\n\u001b[0;32m    138\u001b[0m         \u001b[38;5;28;01mreturn\u001b[39;00m \u001b[38;5;28;01mFalse\u001b[39;00m\n\u001b[0;32m    140\u001b[0m \u001b[38;5;28;01mif\u001b[39;00m trk_header_check \u001b[38;5;129;01mand\u001b[39;00m extension \u001b[38;5;241m==\u001b[39m \u001b[38;5;124m'\u001b[39m\u001b[38;5;124m.trk\u001b[39m\u001b[38;5;124m'\u001b[39m:\n\u001b[1;32m--> 141\u001b[0m     \u001b[38;5;28;01mif\u001b[39;00m \u001b[38;5;129;01mnot\u001b[39;00m \u001b[43mis_header_compatible\u001b[49m\u001b[43m(\u001b[49m\u001b[43mfilename\u001b[49m\u001b[43m,\u001b[49m\u001b[43m \u001b[49m\u001b[43mreference\u001b[49m\u001b[43m)\u001b[49m:\n\u001b[0;32m    142\u001b[0m         logging\u001b[38;5;241m.\u001b[39merror(\u001b[38;5;124m'\u001b[39m\u001b[38;5;124mTrk file header does not match the provided \u001b[39m\u001b[38;5;124m'\u001b[39m\n\u001b[0;32m    143\u001b[0m                       \u001b[38;5;124m'\u001b[39m\u001b[38;5;124mreference.\u001b[39m\u001b[38;5;124m'\u001b[39m)\n\u001b[0;32m    144\u001b[0m         \u001b[38;5;28;01mreturn\u001b[39;00m \u001b[38;5;28;01mFalse\u001b[39;00m\n",
      "File \u001b[1;32m~\\AppData\\Local\\Programs\\Python\\Python311\\Lib\\site-packages\\dipy\\io\\utils.py:364\u001b[0m, in \u001b[0;36mis_header_compatible\u001b[1;34m(reference_1, reference_2)\u001b[0m\n\u001b[0;32m    345\u001b[0m \u001b[38;5;250m\u001b[39m\u001b[38;5;124;03m\"\"\" Will compare the spatial attribute of 2 references\u001b[39;00m\n\u001b[0;32m    346\u001b[0m \n\u001b[0;32m    347\u001b[0m \u001b[38;5;124;03mParameters\u001b[39;00m\n\u001b[1;32m   (...)\u001b[0m\n\u001b[0;32m    359\u001b[0m \u001b[38;5;124;03m    Does all the spatial attribute match\u001b[39;00m\n\u001b[0;32m    360\u001b[0m \u001b[38;5;124;03m\"\"\"\u001b[39;00m\n\u001b[0;32m    362\u001b[0m affine_1, dimensions_1, voxel_sizes_1, voxel_order_1 \u001b[38;5;241m=\u001b[39m get_reference_info(\n\u001b[0;32m    363\u001b[0m     reference_1)\n\u001b[1;32m--> 364\u001b[0m affine_2, dimensions_2, voxel_sizes_2, voxel_order_2 \u001b[38;5;241m=\u001b[39m \u001b[43mget_reference_info\u001b[49m\u001b[43m(\u001b[49m\n\u001b[0;32m    365\u001b[0m \u001b[43m    \u001b[49m\u001b[43mreference_2\u001b[49m\u001b[43m)\u001b[49m\n\u001b[0;32m    367\u001b[0m identical_header \u001b[38;5;241m=\u001b[39m \u001b[38;5;28;01mTrue\u001b[39;00m\n\u001b[0;32m    368\u001b[0m \u001b[38;5;28;01mif\u001b[39;00m \u001b[38;5;129;01mnot\u001b[39;00m np\u001b[38;5;241m.\u001b[39mallclose(affine_1, affine_2, rtol\u001b[38;5;241m=\u001b[39m\u001b[38;5;241m1e-03\u001b[39m, atol\u001b[38;5;241m=\u001b[39m\u001b[38;5;241m1e-03\u001b[39m):\n",
      "File \u001b[1;32m~\\AppData\\Local\\Programs\\Python\\Python311\\Lib\\site-packages\\dipy\\io\\utils.py:334\u001b[0m, in \u001b[0;36mget_reference_info\u001b[1;34m(reference)\u001b[0m\n\u001b[0;32m    332\u001b[0m     voxel_order \u001b[38;5;241m=\u001b[39m \u001b[38;5;124m'\u001b[39m\u001b[38;5;124m'\u001b[39m\u001b[38;5;241m.\u001b[39mjoin(nib\u001b[38;5;241m.\u001b[39maff2axcodes(affine))\n\u001b[0;32m    333\u001b[0m \u001b[38;5;28;01melse\u001b[39;00m:\n\u001b[1;32m--> 334\u001b[0m     \u001b[38;5;28;01mraise\u001b[39;00m \u001b[38;5;167;01mTypeError\u001b[39;00m(\u001b[38;5;124m'\u001b[39m\u001b[38;5;124mInput reference is not one of the supported format\u001b[39m\u001b[38;5;124m'\u001b[39m)\n\u001b[0;32m    336\u001b[0m \u001b[38;5;28;01mif\u001b[39;00m \u001b[38;5;28misinstance\u001b[39m(voxel_order, np\u001b[38;5;241m.\u001b[39mbytes_):\n\u001b[0;32m    337\u001b[0m     voxel_order \u001b[38;5;241m=\u001b[39m voxel_order\u001b[38;5;241m.\u001b[39mdecode(\u001b[38;5;124m'\u001b[39m\u001b[38;5;124mutf-8\u001b[39m\u001b[38;5;124m'\u001b[39m)\n",
      "\u001b[1;31mTypeError\u001b[0m: Input reference is not one of the supported format"
     ]
    }
   ],
   "source": [
    "cc_trk = load_tractogram(bundles_filename,'same')\n",
    "#lpt_sft = load_tractogram(bundles_filename, reference_anatomy,\n",
    "#                          bbox_valid_check=False)"
   ]
  },
  {
   "cell_type": "code",
   "execution_count": 19,
   "metadata": {},
   "outputs": [
    {
     "name": "stdout",
     "output_type": "stream",
     "text": [
      "[[ -0.7   0.    0.  181.3]\n",
      " [  0.   -0.7   0.  217. ]\n",
      " [  0.    0.    0.7   0. ]\n",
      " [  0.    0.    0.    1. ]]\n",
      "[260 311 260]\n",
      "[0.7 0.7 0.7]\n",
      "LPS\n"
     ]
    }
   ],
   "source": [
    "affine, dimensions, voxel_sizes, voxel_order = get_reference_info(\n",
    "    bundles_filename)\n",
    "print(affine)\n",
    "print(dimensions)\n",
    "print(voxel_sizes)\n",
    "print(voxel_order)"
   ]
  },
  {
   "cell_type": "code",
   "execution_count": 21,
   "metadata": {},
   "outputs": [
    {
     "ename": "AttributeError",
     "evalue": "LAS",
     "output_type": "error",
     "traceback": [
      "\u001b[1;31m---------------------------------------------------------------------------\u001b[0m",
      "\u001b[1;31mAttributeError\u001b[0m                            Traceback (most recent call last)",
      "Cell \u001b[1;32mIn[21], line 4\u001b[0m\n\u001b[0;32m      1\u001b[0m \u001b[38;5;66;03m#sft = StatefulTractogram(cc_trk, img, Space.VOX)\u001b[39;00m\n\u001b[0;32m      2\u001b[0m \u001b[38;5;66;03m#bbox_valid_check =False\u001b[39;00m\n\u001b[0;32m      3\u001b[0m \u001b[38;5;66;03m#sft.remove_invalid_streamlines()\u001b[39;00m\n\u001b[1;32m----> 4\u001b[0m save_vtk(cc_trk, \u001b[38;5;124m\"\u001b[39m\u001b[38;5;124mwhole_brain.vtk\u001b[39m\u001b[38;5;124m\"\u001b[39m,\u001b[43mSpace\u001b[49m\u001b[38;5;241;43m.\u001b[39;49m\u001b[43mLAS\u001b[49m)\n",
      "File \u001b[1;32m~\\AppData\\Local\\Programs\\Python\\Python311\\Lib\\enum.py:789\u001b[0m, in \u001b[0;36mEnumType.__getattr__\u001b[1;34m(cls, name)\u001b[0m\n\u001b[0;32m    787\u001b[0m     \u001b[38;5;28;01mreturn\u001b[39;00m \u001b[38;5;28mcls\u001b[39m\u001b[38;5;241m.\u001b[39m_member_map_[name]\n\u001b[0;32m    788\u001b[0m \u001b[38;5;28;01mexcept\u001b[39;00m \u001b[38;5;167;01mKeyError\u001b[39;00m:\n\u001b[1;32m--> 789\u001b[0m     \u001b[38;5;28;01mraise\u001b[39;00m \u001b[38;5;167;01mAttributeError\u001b[39;00m(name) \u001b[38;5;28;01mfrom\u001b[39;00m \u001b[38;5;28mNone\u001b[39m\n",
      "\u001b[1;31mAttributeError\u001b[0m: LAS"
     ]
    }
   ],
   "source": [
    "#sft = StatefulTractogram(cc_trk, img, Space.VOX)\n",
    "#bbox_valid_check =False\n",
    "#sft.remove_invalid_streamlines()\n",
    "save_vtk(cc_trk, \"whole_brain.vtk\")"
   ]
  },
  {
   "cell_type": "markdown",
   "metadata": {},
   "source": [
    "These files contain invalid streamlines (negative values once in voxel space)\n",
    "This is not considered a valid tractography file, but it is possible to load\n",
    "it anyway.\n",
    "\n"
   ]
  },
  {
   "cell_type": "markdown",
   "metadata": {},
   "source": [
    "Once loaded, no matter the original file format, the stateful tractogram is\n",
    "self-contained and maintains a valid state. By requiring a reference the\n",
    "tractogram's spatial transformation can be easily manipulated.\n",
    "\n",
    "Let's save all files as TRK to visualize in TrackVis for example.\n",
    "However, when loaded the lpt and rpt files contain invalid streamlines and\n",
    "for particular operations/tools/functions it is safer to remove them\n",
    "\n"
   ]
  },
  {
   "cell_type": "markdown",
   "metadata": {},
   "source": [
    "Some functions in DIPY require streamlines to be in voxel space so\n",
    "computation can be performed on a grid (connectivity matrix, ROIs masking,\n",
    "density map). The stateful tractogram class provides safe functions for such\n",
    "manipulation. These functions can be called safely over and over, by knowing\n",
    "in which state the tractogram is operating, and compute only necessary\n",
    "transformations\n",
    "\n",
    "No matter the state, functions such as ``save_tractogram`` or\n",
    "``removing_invalid_coordinates`` can be called safely and the transformations\n",
    "are handled internally when needed.\n",
    "\n"
   ]
  },
  {
   "cell_type": "markdown",
   "metadata": {},
   "source": [
    "Now let's move them all to voxel space, subsample them to 100 streamlines,\n",
    "compute a density map and save everything for visualisation in another\n",
    "software such as Trackvis or MI-Brain.\n",
    "\n",
    "To access volume information in a grid, the corner of the voxel must be\n",
    "considered the origin in order to prevent negative values.\n",
    "Any operation doing interpolation or accessing a grid must use the\n",
    "function 'to_vox()' and 'to_corner()'\n",
    "\n"
   ]
  },
  {
   "cell_type": "markdown",
   "metadata": {},
   "source": [
    "Replacing streamlines is possible, but if the state was modified between\n",
    "operations such as this one is not recommended:\n",
    "-> cc_sft.streamlines = cc_streamlines_vox\n",
    "\n"
   ]
  }
 ],
 "metadata": {
  "kernelspec": {
   "display_name": "Python 3 (ipykernel)",
   "language": "python",
   "name": "python3"
  },
  "language_info": {
   "codemirror_mode": {
    "name": "ipython",
    "version": 3
   },
   "file_extension": ".py",
   "mimetype": "text/x-python",
   "name": "python",
   "nbconvert_exporter": "python",
   "pygments_lexer": "ipython3",
   "version": "3.11.2"
  }
 },
 "nbformat": 4,
 "nbformat_minor": 4
}
