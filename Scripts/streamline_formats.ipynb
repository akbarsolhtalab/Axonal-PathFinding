{
 "cells": [
  {
   "cell_type": "code",
   "execution_count": 1,
   "metadata": {
    "collapsed": false,
    "jupyter": {
     "outputs_hidden": false
    }
   },
   "outputs": [],
   "source": [
    "import os\n",
    "\n",
    "import nibabel as nib\n",
    "import numpy as np\n",
    "from dipy.io.stateful_tractogram import Space, StatefulTractogram\n",
    "from dipy.io.streamline import load_tractogram, save_tractogram\n",
    "from dipy.io.utils import (create_nifti_header, get_reference_info,\n",
    "                           is_header_compatible)\n",
    "from dipy.tracking.streamline import select_random_set_of_streamlines\n",
    "from dipy.tracking.utils import density_map\n",
    "\n",
    "from dipy.data.fetcher import (fetch_file_formats,\n",
    "                               get_file_formats)\n",
    "from dipy.io.image import load_nifti_data, load_nifti, save_nifti\n",
    "from dipy.io.streamline import save_trk, save_vtk, load_vtk\n"
   ]
  },
  {
   "cell_type": "code",
   "execution_count": 17,
   "metadata": {
    "collapsed": false,
    "jupyter": {
     "outputs_hidden": false
    }
   },
   "outputs": [],
   "source": [
    "# Enables/disables interactive visualization\n",
    "cwd = os.getcwd()\n",
    "bundles_filename = cwd + '\\\\ThalamicRadiationL.trk'\n",
    "ref_anat_filename = cwd + '\\\\white.nii.gz'\n",
    "\n",
    "reference_anatomy = nib.load(ref_anat_filename)"
   ]
  },
  {
   "cell_type": "code",
   "execution_count": 18,
   "metadata": {},
   "outputs": [
    {
     "name": "stdout",
     "output_type": "stream",
     "text": [
      "[[  -0.7    0.     0.    90. ]\n",
      " [   0.     0.7    0.  -126. ]\n",
      " [   0.     0.     0.7  -72. ]\n",
      " [   0.     0.     0.     1. ]]\n",
      "[260 311 260]\n",
      "[0.7 0.7 0.7]\n",
      "LAS\n"
     ]
    }
   ],
   "source": [
    "affine, dimensions, voxel_sizes, voxel_order = get_reference_info(\n",
    "    ref_anat_filename)\n",
    "print(affine)\n",
    "print(dimensions)\n",
    "print(voxel_sizes)\n",
    "print(voxel_order)"
   ]
  },
  {
   "cell_type": "markdown",
   "metadata": {},
   "source": [
    "Load tractogram will support 5 file formats, functions like load_trk or\n",
    "load_tck will simply be restricted to one file format\n",
    "\n",
    "TRK files contain their own header (when written properly), so they\n",
    "technically do not need a reference. (See how below)\n",
    "\n",
    "``cc_trk = load_tractogram(bundles_filename[0], 'same')``\n",
    "\n"
   ]
  },
  {
   "cell_type": "code",
   "execution_count": 19,
   "metadata": {
    "collapsed": false,
    "jupyter": {
     "outputs_hidden": false
    }
   },
   "outputs": [],
   "source": [
    "cc_trk = load_tractogram(bundles_filename,'same')\n",
    "#lpt_sft = load_tractogram(bundles_filename, reference_anatomy,\n",
    "#                          bbox_valid_check=False)"
   ]
  },
  {
   "cell_type": "code",
   "execution_count": 20,
   "metadata": {},
   "outputs": [
    {
     "name": "stdout",
     "output_type": "stream",
     "text": [
      "[[ -0.7  -0.    0.   90. ]\n",
      " [  0.   -0.7   0.   91. ]\n",
      " [  0.   -0.    0.7 -72. ]\n",
      " [  0.    0.    0.    1. ]]\n",
      "[260 311 260]\n",
      "[0.7 0.7 0.7]\n",
      "LPS\n"
     ]
    }
   ],
   "source": [
    "affine, dimensions, voxel_sizes, voxel_order = get_reference_info(\n",
    "    bundles_filename)\n",
    "print(affine)\n",
    "print(dimensions)\n",
    "print(voxel_sizes)\n",
    "print(voxel_order)"
   ]
  },
  {
   "cell_type": "code",
   "execution_count": 21,
   "metadata": {},
   "outputs": [],
   "source": [
    "#sft = StatefulTractogram(cc_trk, img, Space.VOX)\n",
    "#bbox_valid_check =False\n",
    "#sft.remove_invalid_streamlines()\n",
    "save_vtk(cc_trk, \"ThalamicRadiationL.vtk\")"
   ]
  },
  {
   "cell_type": "markdown",
   "metadata": {},
   "source": [
    "Once loaded, no matter the original file format, the stateful tractogram is\n",
    "self-contained and maintains a valid state. By requiring a reference the\n",
    "tractogram's spatial transformation can be easily manipulated.\n",
    "\n",
    "Let's save all files as TRK to visualize in TrackVis for example.\n",
    "However, when loaded the lpt and rpt files contain invalid streamlines and\n",
    "for particular operations/tools/functions it is safer to remove them\n",
    "\n"
   ]
  },
  {
   "cell_type": "markdown",
   "metadata": {},
   "source": [
    "Some functions in DIPY require streamlines to be in voxel space so\n",
    "computation can be performed on a grid (connectivity matrix, ROIs masking,\n",
    "density map). The stateful tractogram class provides safe functions for such\n",
    "manipulation. These functions can be called safely over and over, by knowing\n",
    "in which state the tractogram is operating, and compute only necessary\n",
    "transformations\n",
    "\n",
    "No matter the state, functions such as ``save_tractogram`` or\n",
    "``removing_invalid_coordinates`` can be called safely and the transformations\n",
    "are handled internally when needed.\n",
    "\n"
   ]
  }
 ],
 "metadata": {
  "kernelspec": {
   "display_name": "Python 3 (ipykernel)",
   "language": "python",
   "name": "python3"
  },
  "language_info": {
   "codemirror_mode": {
    "name": "ipython",
    "version": 3
   },
   "file_extension": ".py",
   "mimetype": "text/x-python",
   "name": "python",
   "nbconvert_exporter": "python",
   "pygments_lexer": "ipython3",
   "version": "3.11.2"
  }
 },
 "nbformat": 4,
 "nbformat_minor": 4
}
